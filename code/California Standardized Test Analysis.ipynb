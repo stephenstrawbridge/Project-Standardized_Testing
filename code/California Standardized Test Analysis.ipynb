{
 "cells": [
  {
   "cell_type": "markdown",
   "metadata": {},
   "source": [
    "<img src=\"http://imgur.com/1ZcRyrc.png\" style=\"float: left; margin: 20px; height: 55px\">\n",
    "\n",
    "# Project 1: Standardized Test Analysis"
   ]
  },
  {
   "cell_type": "markdown",
   "metadata": {},
   "source": [
    "## Problem Statement"
   ]
  },
  {
   "cell_type": "markdown",
   "metadata": {},
   "source": [
    "We hypothesize that although the high school student population of California has a vastly wide range of demographics, the participating and successful standardized test takers of that population may not be as diverse.  This project aims to analyze standardized test participation and success rates among the specific demographic of school county, which could be indicative of further demographics within those counties, and allocate resources as necessary to ensure a more equal representation of successful standardized test takers."
   ]
  },
  {
   "cell_type": "markdown",
   "metadata": {},
   "source": [
    "### Contents:\n",
    "- [Background](#Background)\n",
    "- [Data Import & Cleaning](#Data-Import-and-Cleaning)\n",
    "- [Exploratory Data Analysis](#Exploratory-Data-Analysis)\n",
    "- [Data Visualization](#Visualize-the-Data)\n",
    "- [Conclusions and Recommendations](#Conclusions-and-Recommendations)"
   ]
  },
  {
   "cell_type": "markdown",
   "metadata": {},
   "source": [
    "## Background"
   ]
  },
  {
   "cell_type": "markdown",
   "metadata": {},
   "source": [
    "The SAT and ACT are standardized tests that many colleges and universities in California (United States) have required for their admissions process since the 1940’s.  A student’s score on these standardized tests, in addition to grade point average (GPA), and essay responses, are used to evaluate the academic merit of college applicants and for extending a potential offer of admission.\n",
    "\n",
    "How standardized can these tests truly be?  That is, can every student have an equal chance of succeeding on these tests? It turns out, these tests can have some “unstandardized” qualities.  \n",
    "\n",
    "In December of 2019, students and educators commenced a lawsuit over the University of California over its use of standardized tests, claiming these exams were “discriminating against applicants of color from low-income families by requiring standardized tests” ([*source*](https://www.nbcnews.com/news/education/california-lawsuit-blasts-sat-act-exams-discriminatory-n1099416)).   Commencement of this lawsuit was a long time coming, as most opposers of standardized tests have shared this sentiment for at least a couple decades.  Preparing for these exams can be costly, as preparation programs for these tests can be several hundred, or even several thousand dollars ([*source*](https://blog.prepscholar.com/how-much-do-sat-prep-courses-cost)).  Some school districts, as compared to others, have distinct classes SAT/ACT prep classes offered to students.  \n",
    "\n",
    "Given these conditions, many California citizens claim that access and opportunity to best prepare for the tests is far from equal among the California high school student population.  Some citizens argue it is the test administrators responsibility to ensure resources are allocated proportionally to ensure more equal opportunity.\n"
   ]
  },
  {
   "cell_type": "markdown",
   "metadata": {},
   "source": [
    "### Data Sources\n",
    "\n",
    "* [`act_2019_ca.csv`](./data/act_2019_ca.csv): 2019 ACT Scores in California by School.  Name and city of each school provided.\n",
    "* [`sat_2019_ca.csv`](./data/sat_2019_ca.csv): 2019 SAT Scores in California by School.   Name and city of each school provided.\n"
   ]
  },
  {
   "cell_type": "markdown",
   "metadata": {},
   "source": [
    "### Outside Research"
   ]
  },
  {
   "cell_type": "markdown",
   "metadata": {},
   "source": [
    "The datasets provided, as analyzed further on in the project, cast insight into standardized test score results among different school districts and their respective geographical regions.  Within these regions, further research can show the racial and income demographics of the regions (for example: if the county of Mendocino is a low performing county, we can find the racial and income demographics within Mendocino).  In the section below, we seek to cast insight into these more specific demographics to corroborate our findings in the provided datasets.\n",
    "\n",
    "*Racial Demographics*:\n",
    "According to the 2020 SAT Collegeboard annual report ([*source*](https://reports.collegeboard.org/pdf/2020-california-sat-suite-assessments-annual-report.pdf)), Asian and White students scored the highest, with a mean score for Asian students at 1207 and a mean score for White students at 1158.  The lowest performing demographics were American Indian and African American students, with mean scores of 917 and 938, respectively.  One other important finding from this report is that Hispanic/Latino students had the largest number of test takers, by a huge margin, with over 140,000 students while the next highest participation was White students with around 57,000 students.  Hispanic/Latino students on average still performed significantly below White/Asian students, with a mean total score of 962.\n",
    "\n",
    "*Income Demographics*:\n",
    "According to the National Center for Education Statistics (NCES) ([*source*](https://nces.ed.gov/programs/digest/d12/tables/dt12_173.asp)), in their data pulled from 2010 through 2012, family income and highest level of parental education were directly correlated with student scores.  In every income bracket given, the higher the family income, the higher the student’s score on average.  For parental education, the same effect is seen (higher level of education, higher student score on average).  \n",
    "\n",
    "*Location/Geography Demographics*:\n",
    "Lastly, and perhaps most importantly, we can see both SAT and ACT score reports based on geographical region by utilizing an interactive online map created by EdGAP.org (insert source).  We can see that many urbanized areas have a wide range of average scores, while more rural areas tend to have lower than average scores ([*source*](https://www.edgap.org/?gclid=Cj0KCQjwlvT8BRDeARIsAACRFiVWj0oUKt_gC13oDvrnZkDeJTNtvK0TzDHaDbVdKt1kMR9sVUPDhi0aAvwXEALw_wcB#9/37.4548/-121.6736)).\n"
   ]
  },
  {
   "cell_type": "markdown",
   "metadata": {},
   "source": [
    "### Coding Challenges\n",
    "\n",
    "1. Manually calculate mean:\n",
    "\n",
    "    Write a function that takes in values and returns the mean of the values. Create a list of numbers that you test on your function to check to make sure your function works!\n",
    "    \n",
    "    *Note*: Do not use any mean methods built-in to any Python libraries to do this! This should be done without importing any additional libraries."
   ]
  },
  {
   "cell_type": "code",
   "execution_count": 1,
   "metadata": {},
   "outputs": [],
   "source": [
    "def find_the_mean(numbers_list):\n",
    "    \n",
    "    total_sum = 0           #Create a sum counter to add to when iterating\n",
    "    \n",
    "    for num in numbers_list:  #Create for loop to iterate through numbers list\n",
    "        total_sum += num\n",
    "    \n",
    "    mean = (total_sum) / (len(numbers_list))  #Divide total by length of numbers list (which is the amount of numbers)\n",
    "    \n",
    "    return mean"
   ]
  },
  {
   "cell_type": "code",
   "execution_count": 2,
   "metadata": {},
   "outputs": [
    {
     "data": {
      "text/plain": [
       "4.5"
      ]
     },
     "execution_count": 2,
     "metadata": {},
     "output_type": "execute_result"
    }
   ],
   "source": [
    "find_the_mean([2, 3, 6, 7])"
   ]
  },
  {
   "cell_type": "markdown",
   "metadata": {},
   "source": [
    "2. Manually calculate standard deviation:\n",
    "\n",
    "    The formula for standard deviation is below:\n",
    "\n",
    "    $$\\sigma = \\sqrt{\\frac{1}{n}\\sum_{i=1}^n(x_i - \\mu)^2}$$\n",
    "\n",
    "    Where $x_i$ represents each value in the dataset, $\\mu$ represents the mean of all values in the dataset and $n$ represents the number of values in the dataset.\n",
    "\n",
    "    Write a function that takes in values and returns the standard deviation of the values using the formula above. Hint: use the function you wrote above to calculate the mean! Use the list of numbers you created above to test on your function.\n",
    "    \n",
    "    *Note*: Do not use any standard deviation methods built-in to any Python libraries to do this! This should be done without importing any additional libraries."
   ]
  },
  {
   "cell_type": "code",
   "execution_count": 3,
   "metadata": {},
   "outputs": [],
   "source": [
    "def find_the_std_dev(numbers_list):\n",
    "    \n",
    "    total_sum = 0           \n",
    "    \n",
    "    for num in numbers_list:  \n",
    "        total_sum += num\n",
    "    \n",
    "    mean = (total_sum) / (len(numbers_list)) #Same mean formula used in previous problem\n",
    "    \n",
    "    squared_sum = 0  #Create squared sum count to iterate through\n",
    "    \n",
    "    for num in numbers_list:\n",
    "        squared_sum += ((abs(num - mean))**2)  #for loop to add squared differences between all numbers and mean\n",
    "    \n",
    "    variance = (squared_sum) / (len(numbers_list)) #Variance is the previous sum divided by amount of numbers\n",
    "    \n",
    "    std_dev = round((variance**0.5),2)  #Std deviation is square root of variance\n",
    "    \n",
    "    return std_dev"
   ]
  },
  {
   "cell_type": "code",
   "execution_count": 4,
   "metadata": {},
   "outputs": [
    {
     "data": {
      "text/plain": [
       "2.06"
      ]
     },
     "execution_count": 4,
     "metadata": {},
     "output_type": "execute_result"
    }
   ],
   "source": [
    "find_the_std_dev([2, 3, 6, 7])"
   ]
  },
  {
   "cell_type": "markdown",
   "metadata": {},
   "source": [
    "3. Data cleaning function:\n",
    "    \n",
    "    Write a function that takes in a string that is a number and a percent symbol (ex. '50%', '30.5%', etc.) and converts this to a float that is the decimal approximation of the percent. For example, inputting '50%' in your function should return 0.5, '30.5%' should return 0.305, etc. Make sure to test your function to make sure it works!\n",
    "\n",
    "You will use these functions later on in the project!"
   ]
  },
  {
   "cell_type": "code",
   "execution_count": 5,
   "metadata": {},
   "outputs": [],
   "source": [
    "def string_to_float(string):\n",
    "    \n",
    "    removed_perc = string.replace('%', '') #First remove the % sign\n",
    "    \n",
    "    new_float = float(removed_perc)  #Use float function to simply convert string to float\n",
    "    \n",
    "    final_float = new_float / 100  #Divide new float by 100 to convert to percentage/decimal\n",
    "    \n",
    "    return final_float"
   ]
  },
  {
   "cell_type": "code",
   "execution_count": 6,
   "metadata": {},
   "outputs": [
    {
     "data": {
      "text/plain": [
       "0.305"
      ]
     },
     "execution_count": 6,
     "metadata": {},
     "output_type": "execute_result"
    }
   ],
   "source": [
    "string_to_float('30.5%')"
   ]
  },
  {
   "cell_type": "markdown",
   "metadata": {},
   "source": [
    "#### Extra functions to use later"
   ]
  },
  {
   "cell_type": "code",
   "execution_count": 7,
   "metadata": {},
   "outputs": [
    {
     "data": {
      "text/plain": [
       "5"
      ]
     },
     "execution_count": 7,
     "metadata": {},
     "output_type": "execute_result"
    }
   ],
   "source": [
    "def float_to_int(float):\n",
    "    final_int = int(round(float))\n",
    "    return final_int\n",
    "\n",
    "float_to_int(5.1)"
   ]
  },
  {
   "cell_type": "code",
   "execution_count": 8,
   "metadata": {},
   "outputs": [
    {
     "data": {
      "text/plain": [
       "5.1"
      ]
     },
     "execution_count": 8,
     "metadata": {},
     "output_type": "execute_result"
    }
   ],
   "source": [
    "def str2_to_float(string):\n",
    "    final_float2 = float(string)\n",
    "    return final_float2\n",
    "\n",
    "str2_to_float('5.1')"
   ]
  },
  {
   "cell_type": "code",
   "execution_count": 9,
   "metadata": {},
   "outputs": [
    {
     "data": {
      "text/plain": [
       "5"
      ]
     },
     "execution_count": 9,
     "metadata": {},
     "output_type": "execute_result"
    }
   ],
   "source": [
    "def str3_to_int(string):\n",
    "    final_int = int(string)\n",
    "    return final_int\n",
    "\n",
    "str3_to_int('5')"
   ]
  },
  {
   "cell_type": "markdown",
   "metadata": {},
   "source": [
    "--- \n",
    "# Part 2\n",
    "\n",
    "Part 2 requires knowledge of Pandas, EDA, data cleaning, and data visualization.\n",
    "\n",
    "---"
   ]
  },
  {
   "cell_type": "markdown",
   "metadata": {},
   "source": [
    "*All libraries used should be added here*"
   ]
  },
  {
   "cell_type": "code",
   "execution_count": 10,
   "metadata": {},
   "outputs": [],
   "source": [
    "# Imports:\n",
    "import numpy as np\n",
    "import seaborn as sns\n",
    "import matplotlib.pyplot as plt\n",
    "import pandas as pd"
   ]
  },
  {
   "cell_type": "markdown",
   "metadata": {},
   "source": [
    "## Data Import and Cleaning"
   ]
  },
  {
   "cell_type": "markdown",
   "metadata": {},
   "source": [
    "### Data Import & Cleaning\n",
    "\n",
    "Import the datasets that you selected for this project and go through the following steps at a minimum. You are welcome to do further cleaning as you feel necessary:\n",
    "1. Display the data: print the first 5 rows of each dataframe to your Jupyter notebook.\n",
    "2. Check for missing values.\n",
    "3. Check for any obvious issues with the observations (keep in mind the minimum & maximum possible values for each test/subtest).\n",
    "4. Fix any errors you identified in steps 2-3.\n",
    "5. Display the data types of each feature.\n",
    "6. Fix any incorrect data types found in step 5.\n",
    "    - Fix any individual values preventing other columns from being the appropriate type.\n",
    "    - If your dataset has a column of percents (ex. '50%', '30.5%', etc.), use the function you wrote in Part 1 (coding challenges, number 3) to convert this to floats! *Hint*: use `.map()` or `.apply()`.\n",
    "7. Rename Columns.\n",
    "    - Column names should be all lowercase.\n",
    "    - Column names should not contain spaces (underscores will suffice--this allows for using the `df.column_name` method to access columns in addition to `df['column_name']`).\n",
    "    - Column names should be unique and informative.\n",
    "8. Drop unnecessary rows (if needed).\n",
    "9. Merge dataframes that can be merged.\n",
    "10. Perform any additional cleaning that you feel is necessary.\n",
    "11. Save your cleaned and merged dataframes as csv files."
   ]
  },
  {
   "cell_type": "markdown",
   "metadata": {},
   "source": [
    "## *SAT Data Cleaning*"
   ]
  },
  {
   "cell_type": "code",
   "execution_count": 11,
   "metadata": {},
   "outputs": [
    {
     "data": {
      "text/html": [
       "<div>\n",
       "<style scoped>\n",
       "    .dataframe tbody tr th:only-of-type {\n",
       "        vertical-align: middle;\n",
       "    }\n",
       "\n",
       "    .dataframe tbody tr th {\n",
       "        vertical-align: top;\n",
       "    }\n",
       "\n",
       "    .dataframe thead th {\n",
       "        text-align: right;\n",
       "    }\n",
       "</style>\n",
       "<table border=\"1\" class=\"dataframe\">\n",
       "  <thead>\n",
       "    <tr style=\"text-align: right;\">\n",
       "      <th></th>\n",
       "      <th>CDS</th>\n",
       "      <th>CCode</th>\n",
       "      <th>CDCode</th>\n",
       "      <th>SCode</th>\n",
       "      <th>RType</th>\n",
       "      <th>SName</th>\n",
       "      <th>DName</th>\n",
       "      <th>CName</th>\n",
       "      <th>Enroll12</th>\n",
       "      <th>NumTSTTakr12</th>\n",
       "      <th>...</th>\n",
       "      <th>NumERWBenchmark11</th>\n",
       "      <th>PctERWBenchmark11</th>\n",
       "      <th>NumMathBenchmark11</th>\n",
       "      <th>PctMathBenchmark11</th>\n",
       "      <th>TotNumBothBenchmark12</th>\n",
       "      <th>PctBothBenchmark12</th>\n",
       "      <th>TotNumBothBenchmark11</th>\n",
       "      <th>PctBothBenchmark11</th>\n",
       "      <th>Year</th>\n",
       "      <th>Unnamed: 25</th>\n",
       "    </tr>\n",
       "  </thead>\n",
       "  <tbody>\n",
       "    <tr>\n",
       "      <th>0</th>\n",
       "      <td>6.615981e+12</td>\n",
       "      <td>6.0</td>\n",
       "      <td>661598.0</td>\n",
       "      <td>630046.0</td>\n",
       "      <td>S</td>\n",
       "      <td>Colusa Alternative Home</td>\n",
       "      <td>Colusa Unified</td>\n",
       "      <td>Colusa</td>\n",
       "      <td>18.0</td>\n",
       "      <td>0.0</td>\n",
       "      <td>...</td>\n",
       "      <td>NaN</td>\n",
       "      <td>NaN</td>\n",
       "      <td>NaN</td>\n",
       "      <td>NaN</td>\n",
       "      <td>NaN</td>\n",
       "      <td>NaN</td>\n",
       "      <td>NaN</td>\n",
       "      <td>NaN</td>\n",
       "      <td>2018-19</td>\n",
       "      <td>NaN</td>\n",
       "    </tr>\n",
       "    <tr>\n",
       "      <th>1</th>\n",
       "      <td>6.616061e+12</td>\n",
       "      <td>6.0</td>\n",
       "      <td>661606.0</td>\n",
       "      <td>634758.0</td>\n",
       "      <td>S</td>\n",
       "      <td>Maxwell Sr High</td>\n",
       "      <td>Maxwell Unified</td>\n",
       "      <td>Colusa</td>\n",
       "      <td>29.0</td>\n",
       "      <td>10.0</td>\n",
       "      <td>...</td>\n",
       "      <td>*</td>\n",
       "      <td>*</td>\n",
       "      <td>*</td>\n",
       "      <td>*</td>\n",
       "      <td>*</td>\n",
       "      <td>*</td>\n",
       "      <td>*</td>\n",
       "      <td>*</td>\n",
       "      <td>2018-19</td>\n",
       "      <td>NaN</td>\n",
       "    </tr>\n",
       "    <tr>\n",
       "      <th>2</th>\n",
       "      <td>1.964733e+13</td>\n",
       "      <td>19.0</td>\n",
       "      <td>1964733.0</td>\n",
       "      <td>1930924.0</td>\n",
       "      <td>S</td>\n",
       "      <td>Belmont Senior High</td>\n",
       "      <td>Los Angeles Unified</td>\n",
       "      <td>Los Angeles</td>\n",
       "      <td>206.0</td>\n",
       "      <td>102.0</td>\n",
       "      <td>...</td>\n",
       "      <td>42</td>\n",
       "      <td>24.14</td>\n",
       "      <td>12</td>\n",
       "      <td>6.90</td>\n",
       "      <td>14</td>\n",
       "      <td>13.73</td>\n",
       "      <td>11</td>\n",
       "      <td>6.32</td>\n",
       "      <td>2018-19</td>\n",
       "      <td>NaN</td>\n",
       "    </tr>\n",
       "    <tr>\n",
       "      <th>3</th>\n",
       "      <td>1.964733e+13</td>\n",
       "      <td>19.0</td>\n",
       "      <td>1964733.0</td>\n",
       "      <td>1931476.0</td>\n",
       "      <td>S</td>\n",
       "      <td>Canoga Park Senior High</td>\n",
       "      <td>Los Angeles Unified</td>\n",
       "      <td>Los Angeles</td>\n",
       "      <td>227.0</td>\n",
       "      <td>113.0</td>\n",
       "      <td>...</td>\n",
       "      <td>97</td>\n",
       "      <td>35.27</td>\n",
       "      <td>37</td>\n",
       "      <td>13.45</td>\n",
       "      <td>18</td>\n",
       "      <td>15.93</td>\n",
       "      <td>35</td>\n",
       "      <td>12.73</td>\n",
       "      <td>2018-19</td>\n",
       "      <td>NaN</td>\n",
       "    </tr>\n",
       "    <tr>\n",
       "      <th>4</th>\n",
       "      <td>1.964733e+13</td>\n",
       "      <td>19.0</td>\n",
       "      <td>1964733.0</td>\n",
       "      <td>1931856.0</td>\n",
       "      <td>S</td>\n",
       "      <td>Whitman Continuation</td>\n",
       "      <td>Los Angeles Unified</td>\n",
       "      <td>Los Angeles</td>\n",
       "      <td>18.0</td>\n",
       "      <td>14.0</td>\n",
       "      <td>...</td>\n",
       "      <td>*</td>\n",
       "      <td>*</td>\n",
       "      <td>*</td>\n",
       "      <td>*</td>\n",
       "      <td>*</td>\n",
       "      <td>*</td>\n",
       "      <td>*</td>\n",
       "      <td>*</td>\n",
       "      <td>2018-19</td>\n",
       "      <td>NaN</td>\n",
       "    </tr>\n",
       "  </tbody>\n",
       "</table>\n",
       "<p>5 rows × 26 columns</p>\n",
       "</div>"
      ],
      "text/plain": [
       "            CDS  CCode     CDCode      SCode RType                    SName  \\\n",
       "0  6.615981e+12    6.0   661598.0   630046.0     S  Colusa Alternative Home   \n",
       "1  6.616061e+12    6.0   661606.0   634758.0     S          Maxwell Sr High   \n",
       "2  1.964733e+13   19.0  1964733.0  1930924.0     S      Belmont Senior High   \n",
       "3  1.964733e+13   19.0  1964733.0  1931476.0     S  Canoga Park Senior High   \n",
       "4  1.964733e+13   19.0  1964733.0  1931856.0     S     Whitman Continuation   \n",
       "\n",
       "                 DName        CName  Enroll12  NumTSTTakr12  ...  \\\n",
       "0       Colusa Unified       Colusa      18.0           0.0  ...   \n",
       "1      Maxwell Unified       Colusa      29.0          10.0  ...   \n",
       "2  Los Angeles Unified  Los Angeles     206.0         102.0  ...   \n",
       "3  Los Angeles Unified  Los Angeles     227.0         113.0  ...   \n",
       "4  Los Angeles Unified  Los Angeles      18.0          14.0  ...   \n",
       "\n",
       "  NumERWBenchmark11 PctERWBenchmark11 NumMathBenchmark11 PctMathBenchmark11  \\\n",
       "0               NaN               NaN                NaN                NaN   \n",
       "1                 *                 *                  *                  *   \n",
       "2                42             24.14                 12               6.90   \n",
       "3                97             35.27                 37              13.45   \n",
       "4                 *                 *                  *                  *   \n",
       "\n",
       "   TotNumBothBenchmark12  PctBothBenchmark12 TotNumBothBenchmark11  \\\n",
       "0                    NaN                 NaN                   NaN   \n",
       "1                      *                   *                     *   \n",
       "2                     14               13.73                    11   \n",
       "3                     18               15.93                    35   \n",
       "4                      *                   *                     *   \n",
       "\n",
       "  PctBothBenchmark11     Year Unnamed: 25  \n",
       "0                NaN  2018-19         NaN  \n",
       "1                  *  2018-19         NaN  \n",
       "2               6.32  2018-19         NaN  \n",
       "3              12.73  2018-19         NaN  \n",
       "4                  *  2018-19         NaN  \n",
       "\n",
       "[5 rows x 26 columns]"
      ]
     },
     "execution_count": 11,
     "metadata": {},
     "output_type": "execute_result"
    }
   ],
   "source": [
    "#Display first 5 rows of each dataframe\n",
    "\n",
    "SAT_2019 = pd.read_csv('sat_2019_ca.csv')\n",
    "\n",
    "SAT_2019.head(5)"
   ]
  },
  {
   "cell_type": "code",
   "execution_count": 12,
   "metadata": {},
   "outputs": [],
   "source": [
    "#Drop irrelevant/unnecessary columns and rows not used for analysis.  For this project, we are concerned with total scores, not individual section scores.\n",
    "#This includes, but is not limited to, dropping the last empty column and rows with no school given\n",
    "\n",
    "SAT_2019.drop(columns=['CDS', 'CCode', 'CDCode', 'SCode', 'RType', 'NumERWBenchmark12', 'PctERWBenchmark12', 'NumMathBenchmark12', 'PctMathBenchmark12', 'NumERWBenchmark11', 'PctERWBenchmark11', 'NumMathBenchmark11', 'PctMathBenchmark11','Year', 'Unnamed: 25'], inplace=True)\n",
    "SAT_2019.dropna(axis=0, subset=['SName'], inplace=True) #Dropping rows in which no school name is given\n"
   ]
  },
  {
   "cell_type": "code",
   "execution_count": 13,
   "metadata": {},
   "outputs": [
    {
     "data": {
      "text/plain": [
       "SName                      0\n",
       "DName                      0\n",
       "CName                      0\n",
       "Enroll12                   0\n",
       "NumTSTTakr12               0\n",
       "Enroll11                   0\n",
       "NumTSTTakr11               0\n",
       "TotNumBothBenchmark12    236\n",
       "PctBothBenchmark12       236\n",
       "TotNumBothBenchmark11    265\n",
       "PctBothBenchmark11       265\n",
       "dtype: int64"
      ]
     },
     "execution_count": 13,
     "metadata": {},
     "output_type": "execute_result"
    }
   ],
   "source": [
    "#Check for missing (null) values and delete rows with missing data values. \n",
    "SAT_2019.isnull().sum()\n",
    "#It was observed that these total/percentage columns for grades 11 and 12 were empty when no students in the grade had taken the SAT.\n",
    "#These null values are replaced as described in procedure below."
   ]
  },
  {
   "cell_type": "code",
   "execution_count": 14,
   "metadata": {},
   "outputs": [],
   "source": [
    "#Fix any errors identified.\n",
    "#For first 3 columns replace NaN with 'Not provided', \n",
    "#and rest of columns with 0 to represent there were 'Zero test takers'\n",
    "#the asterisk represents 15 or fewer, so to average, it is replaced with 7.\n",
    "\n",
    "SAT_2019['SName'].fillna('Not provided', inplace=True)\n",
    "SAT_2019['DName'].fillna('Not provided', inplace=True)\n",
    "SAT_2019['CName'].fillna('Not provided', inplace=True)\n",
    "SAT_2019.fillna('0', inplace=True)\n",
    "SAT_2019.replace('*', 7, inplace=True)"
   ]
  },
  {
   "cell_type": "code",
   "execution_count": 15,
   "metadata": {},
   "outputs": [
    {
     "data": {
      "text/plain": [
       "SName                    0\n",
       "DName                    0\n",
       "CName                    0\n",
       "Enroll12                 0\n",
       "NumTSTTakr12             0\n",
       "Enroll11                 0\n",
       "NumTSTTakr11             0\n",
       "TotNumBothBenchmark12    0\n",
       "PctBothBenchmark12       0\n",
       "TotNumBothBenchmark11    0\n",
       "PctBothBenchmark11       0\n",
       "dtype: int64"
      ]
     },
     "execution_count": 15,
     "metadata": {},
     "output_type": "execute_result"
    }
   ],
   "source": [
    "#Recheck of missing (null) values.  Null values resolved.\n",
    "SAT_2019.isnull().sum()"
   ]
  },
  {
   "cell_type": "code",
   "execution_count": 16,
   "metadata": {},
   "outputs": [
    {
     "data": {
      "text/plain": [
       "SName                     object\n",
       "DName                     object\n",
       "CName                     object\n",
       "Enroll12                 float64\n",
       "NumTSTTakr12             float64\n",
       "Enroll11                 float64\n",
       "NumTSTTakr11             float64\n",
       "TotNumBothBenchmark12     object\n",
       "PctBothBenchmark12        object\n",
       "TotNumBothBenchmark11     object\n",
       "PctBothBenchmark11        object\n",
       "dtype: object"
      ]
     },
     "execution_count": 16,
     "metadata": {},
     "output_type": "execute_result"
    }
   ],
   "source": [
    "#Display the datatypes of each feature\n",
    "SAT_2019.dtypes"
   ]
  },
  {
   "cell_type": "code",
   "execution_count": 17,
   "metadata": {},
   "outputs": [],
   "source": [
    "#Fix incorrect datatypes.  Change number/total enrolled to integers and percentage columns to floats.\n",
    "SAT_2019['Enroll12'] = SAT_2019['Enroll12'].apply(float_to_int)\n",
    "SAT_2019['NumTSTTakr11'] = SAT_2019['NumTSTTakr11'].apply(float_to_int)\n",
    "SAT_2019['Enroll11'] = SAT_2019['Enroll11'].apply(float_to_int)\n",
    "SAT_2019['NumTSTTakr12'] = SAT_2019['NumTSTTakr12'].apply(float_to_int)\n",
    "\n",
    "SAT_2019['TotNumBothBenchmark12'] = SAT_2019['TotNumBothBenchmark12'].apply(str2_to_float)\n",
    "SAT_2019['PctBothBenchmark12'] = SAT_2019['PctBothBenchmark12'].apply(str2_to_float)\n",
    "SAT_2019['TotNumBothBenchmark11'] = SAT_2019['TotNumBothBenchmark11'].apply(str2_to_float)\n",
    "SAT_2019['PctBothBenchmark11'] = SAT_2019['PctBothBenchmark11'].apply(str2_to_float)"
   ]
  },
  {
   "cell_type": "code",
   "execution_count": 18,
   "metadata": {},
   "outputs": [
    {
     "data": {
      "text/plain": [
       "SName                     object\n",
       "DName                     object\n",
       "CName                     object\n",
       "Enroll12                   int64\n",
       "NumTSTTakr12               int64\n",
       "Enroll11                   int64\n",
       "NumTSTTakr11               int64\n",
       "TotNumBothBenchmark12    float64\n",
       "PctBothBenchmark12       float64\n",
       "TotNumBothBenchmark11    float64\n",
       "PctBothBenchmark11       float64\n",
       "dtype: object"
      ]
     },
     "execution_count": 18,
     "metadata": {},
     "output_type": "execute_result"
    }
   ],
   "source": [
    "#Recheck datatypes. Dataypes are now correct.\n",
    "SAT_2019.dtypes"
   ]
  },
  {
   "cell_type": "code",
   "execution_count": 19,
   "metadata": {},
   "outputs": [],
   "source": [
    "#Rename column names (use all lowercase and underscores instead of spaces)\n",
    "SAT_2019.rename(columns={'SName':'school', 'DName':'district', 'CName':'county',\n",
    "                         'Enroll12':'enroll_12', 'NumTSTTakr12':'sat_num_takers_12',\n",
    "                         'Enroll11':'enroll_11', 'NumTSTTakr11':'sat_num_takers_11', \n",
    "                         'TotNumBothBenchmark12':'sat_benchmark_12', \n",
    "                         'PctBothBenchmark12':'sat_percent_12',\n",
    "                        'TotNumBothBenchmark11': 'sat_benchmark_11',\n",
    "                        'PctBothBenchmark11':'sat_percent_11'}, inplace=True)"
   ]
  },
  {
   "cell_type": "code",
   "execution_count": 20,
   "metadata": {},
   "outputs": [],
   "source": [
    "#It was noticed that the entire CA school district was present in last row of dataset.  This row was dropped.\n",
    "SAT_2019.drop(SAT_2019.index[1981], inplace=True)"
   ]
  },
  {
   "cell_type": "markdown",
   "metadata": {},
   "source": [
    "## *ACT Data Cleaning*"
   ]
  },
  {
   "cell_type": "code",
   "execution_count": 21,
   "metadata": {},
   "outputs": [
    {
     "data": {
      "text/html": [
       "<div>\n",
       "<style scoped>\n",
       "    .dataframe tbody tr th:only-of-type {\n",
       "        vertical-align: middle;\n",
       "    }\n",
       "\n",
       "    .dataframe tbody tr th {\n",
       "        vertical-align: top;\n",
       "    }\n",
       "\n",
       "    .dataframe thead th {\n",
       "        text-align: right;\n",
       "    }\n",
       "</style>\n",
       "<table border=\"1\" class=\"dataframe\">\n",
       "  <thead>\n",
       "    <tr style=\"text-align: right;\">\n",
       "      <th></th>\n",
       "      <th>CDS</th>\n",
       "      <th>CCode</th>\n",
       "      <th>CDCode</th>\n",
       "      <th>SCode</th>\n",
       "      <th>RType</th>\n",
       "      <th>SName</th>\n",
       "      <th>DName</th>\n",
       "      <th>CName</th>\n",
       "      <th>Enroll12</th>\n",
       "      <th>NumTstTakr</th>\n",
       "      <th>AvgScrRead</th>\n",
       "      <th>AvgScrEng</th>\n",
       "      <th>AvgScrMath</th>\n",
       "      <th>AvgScrSci</th>\n",
       "      <th>NumGE21</th>\n",
       "      <th>PctGE21</th>\n",
       "      <th>Year</th>\n",
       "      <th>Unnamed: 17</th>\n",
       "    </tr>\n",
       "  </thead>\n",
       "  <tbody>\n",
       "    <tr>\n",
       "      <th>0</th>\n",
       "      <td>3.366993e+13</td>\n",
       "      <td>33.0</td>\n",
       "      <td>3366993.0</td>\n",
       "      <td>129882.0</td>\n",
       "      <td>S</td>\n",
       "      <td>21st Century Learning Institute</td>\n",
       "      <td>Beaumont Unified</td>\n",
       "      <td>Riverside</td>\n",
       "      <td>18.0</td>\n",
       "      <td>0.0</td>\n",
       "      <td>NaN</td>\n",
       "      <td>NaN</td>\n",
       "      <td>NaN</td>\n",
       "      <td>NaN</td>\n",
       "      <td>NaN</td>\n",
       "      <td>NaN</td>\n",
       "      <td>2018-19</td>\n",
       "      <td>NaN</td>\n",
       "    </tr>\n",
       "    <tr>\n",
       "      <th>1</th>\n",
       "      <td>1.964212e+13</td>\n",
       "      <td>19.0</td>\n",
       "      <td>1964212.0</td>\n",
       "      <td>1995596.0</td>\n",
       "      <td>S</td>\n",
       "      <td>ABC Secondary (Alternative)</td>\n",
       "      <td>ABC Unified</td>\n",
       "      <td>Los Angeles</td>\n",
       "      <td>58.0</td>\n",
       "      <td>0.0</td>\n",
       "      <td>NaN</td>\n",
       "      <td>NaN</td>\n",
       "      <td>NaN</td>\n",
       "      <td>NaN</td>\n",
       "      <td>NaN</td>\n",
       "      <td>NaN</td>\n",
       "      <td>2018-19</td>\n",
       "      <td>NaN</td>\n",
       "    </tr>\n",
       "    <tr>\n",
       "      <th>2</th>\n",
       "      <td>1.563776e+13</td>\n",
       "      <td>15.0</td>\n",
       "      <td>1563776.0</td>\n",
       "      <td>1530377.0</td>\n",
       "      <td>S</td>\n",
       "      <td>Abraham Lincoln Alternative</td>\n",
       "      <td>Southern Kern Unified</td>\n",
       "      <td>Kern</td>\n",
       "      <td>18.0</td>\n",
       "      <td>0.0</td>\n",
       "      <td>NaN</td>\n",
       "      <td>NaN</td>\n",
       "      <td>NaN</td>\n",
       "      <td>NaN</td>\n",
       "      <td>NaN</td>\n",
       "      <td>NaN</td>\n",
       "      <td>2018-19</td>\n",
       "      <td>NaN</td>\n",
       "    </tr>\n",
       "    <tr>\n",
       "      <th>3</th>\n",
       "      <td>4.369666e+13</td>\n",
       "      <td>43.0</td>\n",
       "      <td>4369666.0</td>\n",
       "      <td>4333795.0</td>\n",
       "      <td>S</td>\n",
       "      <td>Abraham Lincoln High</td>\n",
       "      <td>San Jose Unified</td>\n",
       "      <td>Santa Clara</td>\n",
       "      <td>463.0</td>\n",
       "      <td>53.0</td>\n",
       "      <td>23</td>\n",
       "      <td>22</td>\n",
       "      <td>22</td>\n",
       "      <td>23</td>\n",
       "      <td>34</td>\n",
       "      <td>64.15</td>\n",
       "      <td>2018-19</td>\n",
       "      <td>NaN</td>\n",
       "    </tr>\n",
       "    <tr>\n",
       "      <th>4</th>\n",
       "      <td>1.964733e+13</td>\n",
       "      <td>19.0</td>\n",
       "      <td>1964733.0</td>\n",
       "      <td>1935121.0</td>\n",
       "      <td>S</td>\n",
       "      <td>Abraham Lincoln Senior High</td>\n",
       "      <td>Los Angeles Unified</td>\n",
       "      <td>Los Angeles</td>\n",
       "      <td>226.0</td>\n",
       "      <td>19.0</td>\n",
       "      <td>21</td>\n",
       "      <td>20</td>\n",
       "      <td>23</td>\n",
       "      <td>22</td>\n",
       "      <td>11</td>\n",
       "      <td>57.89</td>\n",
       "      <td>2018-19</td>\n",
       "      <td>NaN</td>\n",
       "    </tr>\n",
       "  </tbody>\n",
       "</table>\n",
       "</div>"
      ],
      "text/plain": [
       "            CDS  CCode     CDCode      SCode RType  \\\n",
       "0  3.366993e+13   33.0  3366993.0   129882.0     S   \n",
       "1  1.964212e+13   19.0  1964212.0  1995596.0     S   \n",
       "2  1.563776e+13   15.0  1563776.0  1530377.0     S   \n",
       "3  4.369666e+13   43.0  4369666.0  4333795.0     S   \n",
       "4  1.964733e+13   19.0  1964733.0  1935121.0     S   \n",
       "\n",
       "                             SName                  DName        CName  \\\n",
       "0  21st Century Learning Institute       Beaumont Unified    Riverside   \n",
       "1      ABC Secondary (Alternative)            ABC Unified  Los Angeles   \n",
       "2      Abraham Lincoln Alternative  Southern Kern Unified         Kern   \n",
       "3             Abraham Lincoln High       San Jose Unified  Santa Clara   \n",
       "4      Abraham Lincoln Senior High    Los Angeles Unified  Los Angeles   \n",
       "\n",
       "   Enroll12  NumTstTakr AvgScrRead AvgScrEng AvgScrMath AvgScrSci NumGE21  \\\n",
       "0      18.0         0.0        NaN       NaN        NaN       NaN     NaN   \n",
       "1      58.0         0.0        NaN       NaN        NaN       NaN     NaN   \n",
       "2      18.0         0.0        NaN       NaN        NaN       NaN     NaN   \n",
       "3     463.0        53.0         23        22         22        23      34   \n",
       "4     226.0        19.0         21        20         23        22      11   \n",
       "\n",
       "  PctGE21     Year  Unnamed: 17  \n",
       "0     NaN  2018-19          NaN  \n",
       "1     NaN  2018-19          NaN  \n",
       "2     NaN  2018-19          NaN  \n",
       "3   64.15  2018-19          NaN  \n",
       "4   57.89  2018-19          NaN  "
      ]
     },
     "execution_count": 21,
     "metadata": {},
     "output_type": "execute_result"
    }
   ],
   "source": [
    "#Display first 5 rows of each dataframe\n",
    "ACT_2019 = pd.read_csv('act_2019_ca.csv')\n",
    "\n",
    "ACT_2019.head(5)"
   ]
  },
  {
   "cell_type": "code",
   "execution_count": 22,
   "metadata": {},
   "outputs": [],
   "source": [
    "#Drop irrelevant/unnecessary columns and rows not used for analysis. \n",
    "#This includes, but is not limited to, dropping the last empty column and rows with no school given\n",
    "ACT_2019.drop(columns=['CDS', 'CCode', 'CDCode', 'SCode', 'RType', 'Year', 'Unnamed: 17'], inplace=True)\n",
    "ACT_2019.dropna(axis=0, subset=['SName'], inplace=True) #Dropping rows in which no school name is given"
   ]
  },
  {
   "cell_type": "code",
   "execution_count": 23,
   "metadata": {},
   "outputs": [
    {
     "data": {
      "text/plain": [
       "SName           0\n",
       "DName           0\n",
       "CName           0\n",
       "Enroll12        0\n",
       "NumTstTakr      0\n",
       "AvgScrRead    292\n",
       "AvgScrEng     292\n",
       "AvgScrMath    292\n",
       "AvgScrSci     292\n",
       "NumGE21       292\n",
       "PctGE21       292\n",
       "dtype: int64"
      ]
     },
     "execution_count": 23,
     "metadata": {},
     "output_type": "execute_result"
    }
   ],
   "source": [
    "#Check for missing (null) values and delete rows with missing data values. \n",
    "ACT_2019.isnull().sum()\n",
    "#It was observed that these total/percentage columns were empty when no students in the grade 12 had taken the ACT.\n",
    "#These null values are replaced as described in procedure below."
   ]
  },
  {
   "cell_type": "code",
   "execution_count": 24,
   "metadata": {},
   "outputs": [],
   "source": [
    "#Fix any errors identified.\n",
    "#For first 3 columns replace NaN with 'Not provided', \n",
    "#and rest of columns with 0 to represent there were 'Zero test takers'\n",
    "#the asterisk represents 15 or fewer, so to average, it is replaced with 7.\n",
    "\n",
    "ACT_2019['SName'].fillna('Not provided', inplace=True)\n",
    "ACT_2019['DName'].fillna('Not provided', inplace=True)\n",
    "ACT_2019['CName'].fillna('Not provided', inplace=True)\n",
    "ACT_2019.fillna('0', inplace=True)\n",
    "ACT_2019.replace('*', 7, inplace=True)"
   ]
  },
  {
   "cell_type": "code",
   "execution_count": 25,
   "metadata": {},
   "outputs": [
    {
     "data": {
      "text/plain": [
       "SName         0\n",
       "DName         0\n",
       "CName         0\n",
       "Enroll12      0\n",
       "NumTstTakr    0\n",
       "AvgScrRead    0\n",
       "AvgScrEng     0\n",
       "AvgScrMath    0\n",
       "AvgScrSci     0\n",
       "NumGE21       0\n",
       "PctGE21       0\n",
       "dtype: int64"
      ]
     },
     "execution_count": 25,
     "metadata": {},
     "output_type": "execute_result"
    }
   ],
   "source": [
    "#Recheck of missing (null) values.  Null values resolved.\n",
    "ACT_2019.isnull().sum()"
   ]
  },
  {
   "cell_type": "code",
   "execution_count": 26,
   "metadata": {},
   "outputs": [
    {
     "data": {
      "text/plain": [
       "SName          object\n",
       "DName          object\n",
       "CName          object\n",
       "Enroll12      float64\n",
       "NumTstTakr    float64\n",
       "AvgScrRead     object\n",
       "AvgScrEng      object\n",
       "AvgScrMath     object\n",
       "AvgScrSci      object\n",
       "NumGE21        object\n",
       "PctGE21        object\n",
       "dtype: object"
      ]
     },
     "execution_count": 26,
     "metadata": {},
     "output_type": "execute_result"
    }
   ],
   "source": [
    "#Display the datatypes of each feature\n",
    "ACT_2019.dtypes"
   ]
  },
  {
   "cell_type": "code",
   "execution_count": 27,
   "metadata": {},
   "outputs": [],
   "source": [
    "#Fix incorrect datatypes.  \n",
    "#Change students enrolled, number of students, scores, and NumGE21 (composite score) to integers \n",
    "#Change PctGE 21 (composite score % over benchmark) to float\n",
    "ACT_2019['Enroll12'] = ACT_2019['Enroll12'].apply(float_to_int)\n",
    "ACT_2019['NumTstTakr'] = ACT_2019['NumTstTakr'].apply(float_to_int)\n",
    "\n",
    "ACT_2019['AvgScrRead'] = ACT_2019['AvgScrRead'].apply(str3_to_int)\n",
    "ACT_2019['AvgScrEng'] = ACT_2019['AvgScrEng'].apply(str3_to_int)\n",
    "ACT_2019['AvgScrMath'] = ACT_2019['AvgScrMath'].apply(str3_to_int)\n",
    "ACT_2019['AvgScrSci'] = ACT_2019['AvgScrSci'].apply(str3_to_int)\n",
    "ACT_2019['NumGE21'] = ACT_2019['NumGE21'].apply(str3_to_int)\n",
    "\n",
    "ACT_2019['PctGE21'] = ACT_2019['PctGE21'].apply(str2_to_float)\n",
    "\n"
   ]
  },
  {
   "cell_type": "code",
   "execution_count": 28,
   "metadata": {},
   "outputs": [
    {
     "data": {
      "text/plain": [
       "SName          object\n",
       "DName          object\n",
       "CName          object\n",
       "Enroll12        int64\n",
       "NumTstTakr      int64\n",
       "AvgScrRead      int64\n",
       "AvgScrEng       int64\n",
       "AvgScrMath      int64\n",
       "AvgScrSci       int64\n",
       "NumGE21         int64\n",
       "PctGE21       float64\n",
       "dtype: object"
      ]
     },
     "execution_count": 28,
     "metadata": {},
     "output_type": "execute_result"
    }
   ],
   "source": [
    "#Recheck datatypes. Dataypes are now correct.\n",
    "ACT_2019.dtypes"
   ]
  },
  {
   "cell_type": "code",
   "execution_count": 29,
   "metadata": {},
   "outputs": [],
   "source": [
    "#Rename column names (use all lowercase and underscores instead of spaces)\n",
    "ACT_2019.rename(columns={'SName':'school', 'DName':'district', 'CName':'county',\n",
    "                         'Enroll12':'enroll_12', 'NumTstTakr':'act_num_takers_12', \n",
    "                         'AvgScrRead':'act_avg_score_read', 'AvgScrEng':'act_avg_score_eng',\n",
    "                         'AvgScrMath':'act_avg_score_math', 'AvgScrSci':'act_avg_score_sci',\n",
    "                         'NumGE21':'act_num_above_benchmark', 'PctGE21':'act_percent_above_benchmark'\n",
    "                        }, inplace=True)"
   ]
  },
  {
   "cell_type": "code",
   "execution_count": 30,
   "metadata": {},
   "outputs": [],
   "source": [
    "#It was noticed that the entire CA school district was present in the dataset.  This row was dropped.\n",
    "ACT_2019.drop(ACT_2019.index[1490], inplace=True)"
   ]
  },
  {
   "cell_type": "markdown",
   "metadata": {},
   "source": [
    "## *Merging SAT and ACT dataframes*"
   ]
  },
  {
   "cell_type": "code",
   "execution_count": 31,
   "metadata": {},
   "outputs": [],
   "source": [
    "schools_to_merge = pd.merge(left = SAT_2019, right = ACT_2019,\n",
    "                          left_on = ['school', 'district', 'county'],\n",
    "                            right_on = ['school', 'district', 'county'])\n"
   ]
  },
  {
   "cell_type": "code",
   "execution_count": 32,
   "metadata": {},
   "outputs": [],
   "source": [
    "schools_merged = schools_to_merge[['school', 'district', 'county',\n",
    "                        'enroll_12_x', 'sat_num_takers_12', 'enroll_11',\n",
    "                        'sat_num_takers_11', 'sat_benchmark_12', 'sat_percent_12', \n",
    "                        'sat_benchmark_11', 'sat_percent_11', 'act_num_takers_12', \n",
    "                        'act_avg_score_read', 'act_avg_score_eng', 'act_avg_score_math', \n",
    "                        'act_avg_score_sci', 'act_num_above_benchmark',\n",
    "                        'act_percent_above_benchmark'\n",
    "                                    ]]"
   ]
  },
  {
   "cell_type": "markdown",
   "metadata": {},
   "source": [
    "### Data Dictionary\n",
    "\n",
    "\n",
    "\n",
    "|Feature|Type|Dataset|Description|\n",
    "|---|---|---|---|\n",
    "|**school**|*object*|CA 2019 SAT/ACT Data|Every public school in California.| \n",
    "|**district**|*object*|CA 2019 SAT/ACT Data|Every public school district in California.| \n",
    "|**county**|*object*|CA 2019 SAT/ACT Data|Every county, for every public school in California.| \n",
    "|**enroll_12_x**|*int*|CA 2019 SAT/ACT Data|The number of enrolled 12th graders per school.|\n",
    "|**sat_num_takers_12**|*int*|CA 2019 SAT Data|The number of enrolled 12th graders per school take took the SAT exam.|\n",
    "|**enroll_11**|*int*|CA 2019 SAT/ACT Data|The number of enrolled 11th graders per school.|\n",
    "|**sat_num_takers_11**|*int*|CA 2019 SAT Data|The number of enrolled 11th graders per school take took the SAT exam.|\n",
    "|**sat_benchmark_12**|*int*|CA 2019 SAT Data|The number of enrolled 12th graders per school take took the SAT exam who reached, or exceeded, the standard benchmark score for 2019.|\n",
    "|**sat_percent_12**|*float*|CA 2019 SAT Data|The number of enrolled 12th graders per school take took the SAT exam who reached, or exceeded, the standard benchmark score for 2019 divided by the total number of 12th graders per school who took the SAT.|\n",
    "|**sat_benchmark_11**|*int*|CA 2019 SAT Data|The number of enrolled 11th graders per school take took the SAT exam who reached, or exceeded, the standard benchmark score for 2019.|\n",
    "|**sat_percent_11**|*float*|CA 2019 SAT Data|The number of enrolled 11th graders per school take took the SAT exam who reached, or exceeded, the standard benchmark score for 2019 divided by the total number of 11th graders per school who took the SAT.|\n",
    "|**act_num_takers_12**|*int*|CA 2019 ACT Data|The number of enrolled 12th graders per school take took the ACT exam.|\n",
    "|**act_avg_score_read**|*int*|CA 2019 ACT Data|The average score on the Reading section of the ACT among 12th graders take took the ACT exam per school.|\n",
    "|**act_avg_score_eng**|*int*|CA 2019 ACT Data|The average score on the English section of the ACT among 12th graders take took the ACT exam per school.|\n",
    "|**act_avg_score_math**|*int*|CA 2019 ACT Data|The average score on the Math section of the ACT among 12th graders take took the ACT exam per school.|\n",
    "|**act_avg_score_sci**|*int*|CA 2019 ACT Data|The average score on the Science section of the ACT among 12th graders take took the ACT exam per school.|\n",
    "|**act_num_above_benchmark**|*int*|CA 2019 ACT Data|The number of enrolled 12th graders per school take took the ACT exam who reached, or exceeded, the standard benchmark score for 2019.|\n",
    "|**act_percent_above_benchmark**|*float*|CA 2019 ACT Data|The number of enrolled 12th graders per school take took the ACT exam who reached, or exceeded, the standard benchmark score for 2019 divided by the total number of 12th graders per school who took the ACT.|\n",
    "\n"
   ]
  },
  {
   "cell_type": "markdown",
   "metadata": {},
   "source": [
    "## Exploratory Data Analysis\n",
    "\n",
    "Complete the following steps to explore your data. You are welcome to do more EDA than the steps outlined here as you feel necessary:\n",
    "1. Summary Statistics.\n",
    "2. Use a **dictionary comprehension** to apply the standard deviation function you create in part 1 to each numeric column in the dataframe.  **No loops**.\n",
    "    - Assign the output to variable `sd` as a dictionary where: \n",
    "        - Each column name is now a key \n",
    "        - That standard deviation of the column is the value \n",
    "        - *Example Output :* `{'ACT_Math': 120, 'ACT_Reading': 120, ...}`\n",
    "3. Investigate trends in the data.\n",
    "    - Using sorting and/or masking (along with the `.head()` method to avoid printing our entire dataframe), consider questions relevant to your problem statement. Some examples are provided below (but feel free to change these questions for your specific problem):\n",
    "        - Which states have the highest and lowest participation rates for the 2017, 2019, or 2019 SAT and ACT?\n",
    "        - Which states have the highest and lowest mean total/composite scores for the 2017, 2019, or 2019 SAT and ACT?\n",
    "        - Do any states with 100% participation on a given test have a rate change year-to-year?\n",
    "        - Do any states show have >50% participation on *both* tests each year?\n",
    "        - Which colleges have the highest median SAT and ACT scores for admittance?\n",
    "        - Which California school districts have the highest and lowest mean test scores?\n",
    "    - **You should comment on your findings at each step in a markdown cell below your code block**. Make sure you include at least one example of sorting your dataframe by a column, and one example of using boolean filtering (i.e., masking) to select a subset of the dataframe."
   ]
  },
  {
   "cell_type": "code",
   "execution_count": 33,
   "metadata": {},
   "outputs": [],
   "source": [
    "#Dictionary comprehension - finding std deviation of numeric columns\n",
    "#First create a dictionary called 'my_dict' with only the numeric columns of the dataframe included\n",
    "#Note the 'to_dict' method operator to change our dataframe to a dictionary with a nested list\n",
    "\n",
    "my_dict = schools_merged[[\n",
    "                        'enroll_12_x', 'sat_num_takers_12', 'enroll_11',\n",
    "                        'sat_num_takers_11', 'sat_benchmark_12', 'sat_percent_12', \n",
    "                        'sat_benchmark_11', 'sat_percent_11', 'act_num_takers_12', \n",
    "                        'act_avg_score_read', 'act_avg_score_eng', 'act_avg_score_math', \n",
    "                        'act_avg_score_sci', 'act_num_above_benchmark',\n",
    "                        'act_percent_above_benchmark'\n",
    "                        ]].to_dict('list')"
   ]
  },
  {
   "cell_type": "code",
   "execution_count": 34,
   "metadata": {},
   "outputs": [
    {
     "data": {
      "text/plain": [
       "{'enroll_12_x': 219.87,\n",
       " 'sat_num_takers_12': 108.05,\n",
       " 'enroll_11': 226.22,\n",
       " 'sat_num_takers_11': 140.84,\n",
       " 'sat_benchmark_12': 58.24,\n",
       " 'sat_percent_12': 26.18,\n",
       " 'sat_benchmark_11': 81.83,\n",
       " 'sat_percent_11': 31.29,\n",
       " 'act_num_takers_12': 63.57,\n",
       " 'act_avg_score_read': 9.49,\n",
       " 'act_avg_score_eng': 9.21,\n",
       " 'act_avg_score_math': 9.15,\n",
       " 'act_avg_score_sci': 9.08,\n",
       " 'act_num_above_benchmark': 43.32,\n",
       " 'act_percent_above_benchmark': 31.01}"
      ]
     },
     "execution_count": 34,
     "metadata": {},
     "output_type": "execute_result"
    }
   ],
   "source": [
    "#Use dictionary comprehension, with our std dev function, to find std dev of all values under each key (column)\n",
    "sd = {key:find_the_std_dev(value) for key, value in my_dict.items()}\n",
    "sd"
   ]
  },
  {
   "cell_type": "code",
   "execution_count": 35,
   "metadata": {},
   "outputs": [
    {
     "data": {
      "text/html": [
       "<div>\n",
       "<style scoped>\n",
       "    .dataframe tbody tr th:only-of-type {\n",
       "        vertical-align: middle;\n",
       "    }\n",
       "\n",
       "    .dataframe tbody tr th {\n",
       "        vertical-align: top;\n",
       "    }\n",
       "\n",
       "    .dataframe thead th {\n",
       "        text-align: right;\n",
       "    }\n",
       "</style>\n",
       "<table border=\"1\" class=\"dataframe\">\n",
       "  <thead>\n",
       "    <tr style=\"text-align: right;\">\n",
       "      <th></th>\n",
       "      <th>enroll_12_x</th>\n",
       "      <th>sat_num_takers_12</th>\n",
       "      <th>enroll_11</th>\n",
       "      <th>sat_num_takers_11</th>\n",
       "      <th>sat_benchmark_12</th>\n",
       "      <th>sat_percent_12</th>\n",
       "      <th>sat_benchmark_11</th>\n",
       "      <th>sat_percent_11</th>\n",
       "      <th>act_num_takers_12</th>\n",
       "      <th>act_avg_score_read</th>\n",
       "      <th>act_avg_score_eng</th>\n",
       "      <th>act_avg_score_math</th>\n",
       "      <th>act_avg_score_sci</th>\n",
       "      <th>act_num_above_benchmark</th>\n",
       "      <th>act_percent_above_benchmark</th>\n",
       "    </tr>\n",
       "  </thead>\n",
       "  <tbody>\n",
       "    <tr>\n",
       "      <th>count</th>\n",
       "      <td>1707.00</td>\n",
       "      <td>1707.00</td>\n",
       "      <td>1707.00</td>\n",
       "      <td>1707.00</td>\n",
       "      <td>1707.00</td>\n",
       "      <td>1707.00</td>\n",
       "      <td>1707.00</td>\n",
       "      <td>1707.00</td>\n",
       "      <td>1707.00</td>\n",
       "      <td>1707.00</td>\n",
       "      <td>1707.00</td>\n",
       "      <td>1707.00</td>\n",
       "      <td>1707.00</td>\n",
       "      <td>1707.00</td>\n",
       "      <td>1707.00</td>\n",
       "    </tr>\n",
       "    <tr>\n",
       "      <th>mean</th>\n",
       "      <td>258.97</td>\n",
       "      <td>98.53</td>\n",
       "      <td>262.36</td>\n",
       "      <td>118.89</td>\n",
       "      <td>45.95</td>\n",
       "      <td>32.12</td>\n",
       "      <td>61.12</td>\n",
       "      <td>37.74</td>\n",
       "      <td>48.17</td>\n",
       "      <td>14.59</td>\n",
       "      <td>14.09</td>\n",
       "      <td>14.23</td>\n",
       "      <td>14.19</td>\n",
       "      <td>27.61</td>\n",
       "      <td>32.06</td>\n",
       "    </tr>\n",
       "    <tr>\n",
       "      <th>std</th>\n",
       "      <td>219.93</td>\n",
       "      <td>108.08</td>\n",
       "      <td>226.28</td>\n",
       "      <td>140.89</td>\n",
       "      <td>58.26</td>\n",
       "      <td>26.19</td>\n",
       "      <td>81.85</td>\n",
       "      <td>31.30</td>\n",
       "      <td>63.59</td>\n",
       "      <td>9.50</td>\n",
       "      <td>9.21</td>\n",
       "      <td>9.15</td>\n",
       "      <td>9.08</td>\n",
       "      <td>43.33</td>\n",
       "      <td>31.02</td>\n",
       "    </tr>\n",
       "    <tr>\n",
       "      <th>min</th>\n",
       "      <td>3.00</td>\n",
       "      <td>0.00</td>\n",
       "      <td>0.00</td>\n",
       "      <td>0.00</td>\n",
       "      <td>0.00</td>\n",
       "      <td>0.00</td>\n",
       "      <td>0.00</td>\n",
       "      <td>0.00</td>\n",
       "      <td>0.00</td>\n",
       "      <td>0.00</td>\n",
       "      <td>0.00</td>\n",
       "      <td>0.00</td>\n",
       "      <td>0.00</td>\n",
       "      <td>0.00</td>\n",
       "      <td>0.00</td>\n",
       "    </tr>\n",
       "    <tr>\n",
       "      <th>25%</th>\n",
       "      <td>71.00</td>\n",
       "      <td>10.00</td>\n",
       "      <td>65.00</td>\n",
       "      <td>9.00</td>\n",
       "      <td>7.00</td>\n",
       "      <td>7.00</td>\n",
       "      <td>7.00</td>\n",
       "      <td>7.00</td>\n",
       "      <td>2.00</td>\n",
       "      <td>7.00</td>\n",
       "      <td>7.00</td>\n",
       "      <td>7.00</td>\n",
       "      <td>7.00</td>\n",
       "      <td>7.00</td>\n",
       "      <td>7.00</td>\n",
       "    </tr>\n",
       "    <tr>\n",
       "      <th>50%</th>\n",
       "      <td>171.00</td>\n",
       "      <td>65.00</td>\n",
       "      <td>181.00</td>\n",
       "      <td>70.00</td>\n",
       "      <td>20.00</td>\n",
       "      <td>27.42</td>\n",
       "      <td>27.00</td>\n",
       "      <td>31.71</td>\n",
       "      <td>26.00</td>\n",
       "      <td>18.00</td>\n",
       "      <td>17.00</td>\n",
       "      <td>18.00</td>\n",
       "      <td>18.00</td>\n",
       "      <td>8.00</td>\n",
       "      <td>20.51</td>\n",
       "    </tr>\n",
       "    <tr>\n",
       "      <th>75%</th>\n",
       "      <td>437.00</td>\n",
       "      <td>151.00</td>\n",
       "      <td>443.50</td>\n",
       "      <td>174.00</td>\n",
       "      <td>67.00</td>\n",
       "      <td>53.24</td>\n",
       "      <td>82.00</td>\n",
       "      <td>67.29</td>\n",
       "      <td>70.00</td>\n",
       "      <td>23.00</td>\n",
       "      <td>22.00</td>\n",
       "      <td>22.00</td>\n",
       "      <td>22.00</td>\n",
       "      <td>31.00</td>\n",
       "      <td>60.17</td>\n",
       "    </tr>\n",
       "    <tr>\n",
       "      <th>max</th>\n",
       "      <td>1135.00</td>\n",
       "      <td>932.00</td>\n",
       "      <td>1218.00</td>\n",
       "      <td>1058.00</td>\n",
       "      <td>385.00</td>\n",
       "      <td>100.00</td>\n",
       "      <td>549.00</td>\n",
       "      <td>99.68</td>\n",
       "      <td>512.00</td>\n",
       "      <td>32.00</td>\n",
       "      <td>32.00</td>\n",
       "      <td>32.00</td>\n",
       "      <td>31.00</td>\n",
       "      <td>392.00</td>\n",
       "      <td>100.00</td>\n",
       "    </tr>\n",
       "  </tbody>\n",
       "</table>\n",
       "</div>"
      ],
      "text/plain": [
       "       enroll_12_x  sat_num_takers_12  enroll_11  sat_num_takers_11  \\\n",
       "count      1707.00            1707.00    1707.00            1707.00   \n",
       "mean        258.97              98.53     262.36             118.89   \n",
       "std         219.93             108.08     226.28             140.89   \n",
       "min           3.00               0.00       0.00               0.00   \n",
       "25%          71.00              10.00      65.00               9.00   \n",
       "50%         171.00              65.00     181.00              70.00   \n",
       "75%         437.00             151.00     443.50             174.00   \n",
       "max        1135.00             932.00    1218.00            1058.00   \n",
       "\n",
       "       sat_benchmark_12  sat_percent_12  sat_benchmark_11  sat_percent_11  \\\n",
       "count           1707.00         1707.00           1707.00         1707.00   \n",
       "mean              45.95           32.12             61.12           37.74   \n",
       "std               58.26           26.19             81.85           31.30   \n",
       "min                0.00            0.00              0.00            0.00   \n",
       "25%                7.00            7.00              7.00            7.00   \n",
       "50%               20.00           27.42             27.00           31.71   \n",
       "75%               67.00           53.24             82.00           67.29   \n",
       "max              385.00          100.00            549.00           99.68   \n",
       "\n",
       "       act_num_takers_12  act_avg_score_read  act_avg_score_eng  \\\n",
       "count            1707.00             1707.00            1707.00   \n",
       "mean               48.17               14.59              14.09   \n",
       "std                63.59                9.50               9.21   \n",
       "min                 0.00                0.00               0.00   \n",
       "25%                 2.00                7.00               7.00   \n",
       "50%                26.00               18.00              17.00   \n",
       "75%                70.00               23.00              22.00   \n",
       "max               512.00               32.00              32.00   \n",
       "\n",
       "       act_avg_score_math  act_avg_score_sci  act_num_above_benchmark  \\\n",
       "count             1707.00            1707.00                  1707.00   \n",
       "mean                14.23              14.19                    27.61   \n",
       "std                  9.15               9.08                    43.33   \n",
       "min                  0.00               0.00                     0.00   \n",
       "25%                  7.00               7.00                     7.00   \n",
       "50%                 18.00              18.00                     8.00   \n",
       "75%                 22.00              22.00                    31.00   \n",
       "max                 32.00              31.00                   392.00   \n",
       "\n",
       "       act_percent_above_benchmark  \n",
       "count                      1707.00  \n",
       "mean                         32.06  \n",
       "std                          31.02  \n",
       "min                           0.00  \n",
       "25%                           7.00  \n",
       "50%                          20.51  \n",
       "75%                          60.17  \n",
       "max                         100.00  "
      ]
     },
     "execution_count": 35,
     "metadata": {},
     "output_type": "execute_result"
    }
   ],
   "source": [
    "#Summary statistics  -  Describe method for entire dataset\n",
    "schools_merged.describe().round(2)"
   ]
  },
  {
   "cell_type": "code",
   "execution_count": 36,
   "metadata": {},
   "outputs": [
    {
     "data": {
      "text/plain": [
       "county\n",
       "Modoc        12\n",
       "Sierra       13\n",
       "Mono         27\n",
       "Trinity      29\n",
       "Mariposa     39\n",
       "Amador       48\n",
       "Lassen       53\n",
       "Plumas       56\n",
       "Tuolumne     65\n",
       "Del Norte    66\n",
       "Name: sat_num_takers_11, dtype: int64"
      ]
     },
     "execution_count": 36,
     "metadata": {},
     "output_type": "execute_result"
    }
   ],
   "source": [
    "#What 10 counties have the lowest participation for SAT 11th grade in numbers?\n",
    "schools_merged.groupby(by='county')['sat_num_takers_11'].sum().nsmallest(10)"
   ]
  },
  {
   "cell_type": "code",
   "execution_count": 37,
   "metadata": {},
   "outputs": [
    {
     "data": {
      "text/plain": [
       "county\n",
       "Sierra        5\n",
       "Trinity      10\n",
       "Modoc        12\n",
       "Plumas       27\n",
       "Mono         34\n",
       "Mariposa     36\n",
       "Amador       53\n",
       "Lassen       53\n",
       "Del Norte    72\n",
       "Tuolumne     72\n",
       "Name: sat_num_takers_12, dtype: int64"
      ]
     },
     "execution_count": 37,
     "metadata": {},
     "output_type": "execute_result"
    }
   ],
   "source": [
    "#What 10 counties have the lowest participation for SAT 12th grade in numbers?\n",
    "schools_merged.groupby(by='county')['sat_num_takers_12'].sum().nsmallest(10)"
   ]
  },
  {
   "cell_type": "code",
   "execution_count": 38,
   "metadata": {},
   "outputs": [
    {
     "data": {
      "text/plain": [
       "county\n",
       "Sierra        3\n",
       "Del Norte     5\n",
       "Plumas        9\n",
       "Trinity      15\n",
       "Mariposa     16\n",
       "Mono         20\n",
       "Tuolumne     23\n",
       "Colusa       26\n",
       "Lassen       27\n",
       "Inyo         28\n",
       "Name: act_num_takers_12, dtype: int64"
      ]
     },
     "execution_count": 38,
     "metadata": {},
     "output_type": "execute_result"
    }
   ],
   "source": [
    "#What 10 counties have the lowest participation for ACT 12th grade in numbers?\n",
    "schools_merged.groupby(by='county')['act_num_takers_12'].sum().nsmallest(10)"
   ]
  },
  {
   "cell_type": "code",
   "execution_count": 39,
   "metadata": {},
   "outputs": [
    {
     "data": {
      "text/plain": [
       "county\n",
       "Modoc              7.00\n",
       "Sierra             7.00\n",
       "Inyo              15.96\n",
       "Lassen            17.09\n",
       "Tehama            20.64\n",
       "Lake              20.94\n",
       "Fresno            22.94\n",
       "Tuolumne          23.49\n",
       "Siskiyou          26.32\n",
       "San Bernardino    26.36\n",
       "Name: sat_percent_11, dtype: float64"
      ]
     },
     "execution_count": 39,
     "metadata": {},
     "output_type": "execute_result"
    }
   ],
   "source": [
    "#What 10 counties have, on average, the lowest percentage over benchmark for SAT 11th grade?\n",
    "schools_merged.groupby(by='county')['sat_percent_11'].mean().nsmallest(10).round(2)"
   ]
  },
  {
   "cell_type": "code",
   "execution_count": 40,
   "metadata": {},
   "outputs": [
    {
     "data": {
      "text/plain": [
       "county\n",
       "Trinity      3.50\n",
       "Colusa       5.66\n",
       "Modoc        7.00\n",
       "Plumas       7.00\n",
       "Sierra       7.00\n",
       "Lassen      10.80\n",
       "Inyo        11.59\n",
       "Glenn       17.05\n",
       "Siskiyou    19.52\n",
       "Fresno      20.68\n",
       "Name: sat_percent_12, dtype: float64"
      ]
     },
     "execution_count": 40,
     "metadata": {},
     "output_type": "execute_result"
    }
   ],
   "source": [
    "#What 10 counties have, on average, the lowest percentage over benchmark for SAT 12th grade?\n",
    "schools_merged.groupby(by='county')['sat_percent_12'].mean().nsmallest(10).round(2)"
   ]
  },
  {
   "cell_type": "code",
   "execution_count": 41,
   "metadata": {},
   "outputs": [
    {
     "data": {
      "text/plain": [
       "county\n",
       "Tuolumne      2.33\n",
       "Del Norte     3.50\n",
       "Plumas        7.00\n",
       "Sierra        7.00\n",
       "Colusa        9.05\n",
       "Lassen       11.11\n",
       "Lake         12.73\n",
       "Siskiyou     13.49\n",
       "Glenn        15.26\n",
       "Inyo         15.47\n",
       "Name: act_percent_above_benchmark, dtype: float64"
      ]
     },
     "execution_count": 41,
     "metadata": {},
     "output_type": "execute_result"
    }
   ],
   "source": [
    "#What 10 counties have, on average, the lowest percentage over benchmark for ACT 12th grade?\n",
    "schools_merged.groupby(by='county')['act_percent_above_benchmark'].mean().nsmallest(10).round(2)"
   ]
  },
  {
   "cell_type": "code",
   "execution_count": 42,
   "metadata": {},
   "outputs": [
    {
     "data": {
      "text/html": [
       "<div>\n",
       "<style scoped>\n",
       "    .dataframe tbody tr th:only-of-type {\n",
       "        vertical-align: middle;\n",
       "    }\n",
       "\n",
       "    .dataframe tbody tr th {\n",
       "        vertical-align: top;\n",
       "    }\n",
       "\n",
       "    .dataframe thead th {\n",
       "        text-align: right;\n",
       "    }\n",
       "</style>\n",
       "<table border=\"1\" class=\"dataframe\">\n",
       "  <thead>\n",
       "    <tr style=\"text-align: right;\">\n",
       "      <th></th>\n",
       "      <th>sat_num_takers_11</th>\n",
       "      <th>sat_num_takers_12</th>\n",
       "      <th>act_num_takers_12</th>\n",
       "      <th>sat_percent_11</th>\n",
       "      <th>sat_percent_12</th>\n",
       "      <th>act_percent_above_benchmark</th>\n",
       "    </tr>\n",
       "  </thead>\n",
       "  <tbody>\n",
       "    <tr>\n",
       "      <th>count</th>\n",
       "      <td>1707.00</td>\n",
       "      <td>1707.00</td>\n",
       "      <td>1707.00</td>\n",
       "      <td>1707.00</td>\n",
       "      <td>1707.00</td>\n",
       "      <td>1707.00</td>\n",
       "    </tr>\n",
       "    <tr>\n",
       "      <th>mean</th>\n",
       "      <td>118.89</td>\n",
       "      <td>98.53</td>\n",
       "      <td>48.17</td>\n",
       "      <td>37.74</td>\n",
       "      <td>32.12</td>\n",
       "      <td>32.06</td>\n",
       "    </tr>\n",
       "    <tr>\n",
       "      <th>std</th>\n",
       "      <td>140.89</td>\n",
       "      <td>108.08</td>\n",
       "      <td>63.59</td>\n",
       "      <td>31.30</td>\n",
       "      <td>26.19</td>\n",
       "      <td>31.02</td>\n",
       "    </tr>\n",
       "    <tr>\n",
       "      <th>min</th>\n",
       "      <td>0.00</td>\n",
       "      <td>0.00</td>\n",
       "      <td>0.00</td>\n",
       "      <td>0.00</td>\n",
       "      <td>0.00</td>\n",
       "      <td>0.00</td>\n",
       "    </tr>\n",
       "    <tr>\n",
       "      <th>25%</th>\n",
       "      <td>9.00</td>\n",
       "      <td>10.00</td>\n",
       "      <td>2.00</td>\n",
       "      <td>7.00</td>\n",
       "      <td>7.00</td>\n",
       "      <td>7.00</td>\n",
       "    </tr>\n",
       "    <tr>\n",
       "      <th>50%</th>\n",
       "      <td>70.00</td>\n",
       "      <td>65.00</td>\n",
       "      <td>26.00</td>\n",
       "      <td>31.71</td>\n",
       "      <td>27.42</td>\n",
       "      <td>20.51</td>\n",
       "    </tr>\n",
       "    <tr>\n",
       "      <th>75%</th>\n",
       "      <td>174.00</td>\n",
       "      <td>151.00</td>\n",
       "      <td>70.00</td>\n",
       "      <td>67.29</td>\n",
       "      <td>53.24</td>\n",
       "      <td>60.17</td>\n",
       "    </tr>\n",
       "    <tr>\n",
       "      <th>max</th>\n",
       "      <td>1058.00</td>\n",
       "      <td>932.00</td>\n",
       "      <td>512.00</td>\n",
       "      <td>99.68</td>\n",
       "      <td>100.00</td>\n",
       "      <td>100.00</td>\n",
       "    </tr>\n",
       "  </tbody>\n",
       "</table>\n",
       "</div>"
      ],
      "text/plain": [
       "       sat_num_takers_11  sat_num_takers_12  act_num_takers_12  \\\n",
       "count            1707.00            1707.00            1707.00   \n",
       "mean              118.89              98.53              48.17   \n",
       "std               140.89             108.08              63.59   \n",
       "min                 0.00               0.00               0.00   \n",
       "25%                 9.00              10.00               2.00   \n",
       "50%                70.00              65.00              26.00   \n",
       "75%               174.00             151.00              70.00   \n",
       "max              1058.00             932.00             512.00   \n",
       "\n",
       "       sat_percent_11  sat_percent_12  act_percent_above_benchmark  \n",
       "count         1707.00         1707.00                      1707.00  \n",
       "mean            37.74           32.12                        32.06  \n",
       "std             31.30           26.19                        31.02  \n",
       "min              0.00            0.00                         0.00  \n",
       "25%              7.00            7.00                         7.00  \n",
       "50%             31.71           27.42                        20.51  \n",
       "75%             67.29           53.24                        60.17  \n",
       "max             99.68          100.00                       100.00  "
      ]
     },
     "execution_count": 42,
     "metadata": {},
     "output_type": "execute_result"
    }
   ],
   "source": [
    "#Summary statistics  -  Compare results above with descriptive stats for those columns\n",
    "schools_merged[['sat_num_takers_11', 'sat_num_takers_12', \n",
    "               'act_num_takers_12','sat_percent_11', 'sat_percent_12',\n",
    "               'act_percent_above_benchmark']].describe().round(2)"
   ]
  },
  {
   "cell_type": "markdown",
   "metadata": {},
   "source": [
    "### Comments on Findings Above\n",
    "\n",
    "In terms of numbers on average, the counties of Modoc, Sierra, and Trinity had the lowest SAT participation for both 11th and 12th grades.  11th grade participation ranged from about 10 to 30 students, while 12th grade participation ranged from about 5 to 10 students.  Even considering the fact that these counties may have a smaller population size, these stats were far below the average of all schools, where the 11th grade and 12th grade means were about 119 students and 100 students, respectively. \n",
    "\n",
    "In terms of numbers on average, the counties of Sierra, Del Norte, and Plumas had the lowest ACT participation for 12th grade.  Participation ranged from only 3 to 9 students, with the average in comparison at 48 students.  \n",
    "\n",
    "In terms of percentages on average, the counties of Modoc, Sierra, and Inyo had the lowest percentage of students meet or exceed the SAT score benchmark for the 11th grade.  For the 12th grade, the counties were Trinity, Colusa, and Modoc.  The average percentage across all schools, for both grades, was about 37% to 32%. \n",
    "\n",
    "One key takeaway from these findings is that fact that nearly all of the highly urbanized areas of California were excluded from these bottom 10 ranks.  Nearly all of the counties present in the findings above are located in more rural areas.\n",
    "\n",
    "\n",
    "Grouping and summary statistic syntax was referenced using the following source: ([*source*](https://stackoverflow.com/questions/20069009/pandas-get-topmost-n-records-within-each-group))."
   ]
  },
  {
   "cell_type": "markdown",
   "metadata": {},
   "source": [
    "## Visualize the Data"
   ]
  },
  {
   "cell_type": "code",
   "execution_count": 43,
   "metadata": {},
   "outputs": [
    {
     "data": {
      "image/png": "[encoded data removed]",
      "text/plain": [
       "<Figure size 1152x648 with 2 Axes>"
      ]
     },
     "metadata": {
      "needs_background": "light"
     },
     "output_type": "display_data"
    }
   ],
   "source": [
    "#First, a heatmap is used to look at correlations between all variables\n",
    "\n",
    "plt.figure(figsize=(16,9))\n",
    "sns.heatmap(schools_merged.corr(), cmap=\"Blues\", annot=True);"
   ]
  },
  {
   "cell_type": "code",
   "execution_count": 44,
   "metadata": {},
   "outputs": [],
   "source": [
    "#Interpretation:\n",
    "#We can see a significant (but still not strong) correlation between school size (number enrolled) and test scores\n",
    "#Analysis below investigates this relationship^"
   ]
  },
  {
   "cell_type": "code",
   "execution_count": 45,
   "metadata": {},
   "outputs": [
    {
     "data": {
      "image/png": "[encoded data removed]",
      "text/plain": [
       "<Figure size 1152x648 with 1 Axes>"
      ]
     },
     "metadata": {
      "needs_background": "light"
     },
     "output_type": "display_data"
    }
   ],
   "source": [
    "# Create scatterplot of 12th grade enrollment versus 12th grade SAT success over benchmark (in percentage).\n",
    "plt.figure(figsize=(16, 9))\n",
    "plt.scatter(schools_merged['enroll_12_x'], \n",
    "           schools_merged['act_percent_above_benchmark'],\n",
    "           alpha=0.15) \n",
    "\n",
    "plt.title(\"12th grade enrollment versus 12th grade ACT success over benchmark (in percentage)\", fontsize=20);\n",
    "plt.xlabel(\"Number of enrolled 12th grade students\", fontsize = 15);\n",
    "plt.ylabel(\"Percent of those students who cleared benchmark\", fontsize = 15);\n"
   ]
  },
  {
   "cell_type": "code",
   "execution_count": 46,
   "metadata": {},
   "outputs": [],
   "source": [
    "#Interpretation:  \n",
    "#There is about a 63% correlation between the size of the 12th grade (school) and the percentage of those 12th graders that cleared the benchmark."
   ]
  },
  {
   "cell_type": "code",
   "execution_count": 47,
   "metadata": {},
   "outputs": [
    {
     "data": {
      "image/png": "[encoded data removed]",
      "text/plain": [
       "<Figure size 1152x648 with 1 Axes>"
      ]
     },
     "metadata": {
      "needs_background": "light"
     },
     "output_type": "display_data"
    }
   ],
   "source": [
    "plt.figure(figsize=(16,9))\n",
    "\n",
    "ax1 = plt.subplot(311)\n",
    "ax1.hist(schools_merged['enroll_11'], bins=100)\n",
    "ax1.vlines(x = np.average(schools_merged['enroll_11']), ymin=0, ymax=150, color='r');\n",
    "\n",
    "plt.title(\"11th Grade Size of all CA Schools\", fontsize=20)\n",
    "plt.xlabel(\"Number of Students in 11th Grade\", fontsize = 15);\n",
    "plt.ylabel(\"Frequency\", fontsize = 15);\n",
    "\n",
    "#Source code leveraged by fellow colleague, Nolan Arendt"
   ]
  },
  {
   "cell_type": "code",
   "execution_count": 48,
   "metadata": {},
   "outputs": [
    {
     "data": {
      "image/png": "[encoded data removed]",
      "text/plain": [
       "<Figure size 1152x648 with 1 Axes>"
      ]
     },
     "metadata": {
      "needs_background": "light"
     },
     "output_type": "display_data"
    }
   ],
   "source": [
    "plt.figure(figsize=(16,9))\n",
    "\n",
    "ax2 = plt.subplot(311, sharex=ax1)\n",
    "ax2.hist(schools_merged['sat_benchmark_11'], bins=100)\n",
    "ax2.vlines(x = np.average(schools_merged['sat_benchmark_11']), ymin=0, ymax=400, color='r');\n",
    "\n",
    "plt.title(\"Successful SAT 11th Grade Students among all CA Schools\", fontsize=20)\n",
    "plt.xlabel(\"Number who exceeded benchmark\", fontsize = 15);\n",
    "plt.ylabel(\"Frequency\", fontsize = 15);\n",
    "\n",
    "#Source code leveraged by fellow colleague, Nolan Arendt"
   ]
  },
  {
   "cell_type": "code",
   "execution_count": 49,
   "metadata": {},
   "outputs": [],
   "source": [
    "#Interpretation of above 2 histograms:\n",
    "#Smaller schools, even with less students, almost always had fewer students pass SAT benchmark for the 11th grade."
   ]
  },
  {
   "cell_type": "code",
   "execution_count": 50,
   "metadata": {},
   "outputs": [
    {
     "data": {
      "image/png": "[encoded data removed]",
      "text/plain": [
       "<Figure size 1152x648 with 1 Axes>"
      ]
     },
     "metadata": {
      "needs_background": "light"
     },
     "output_type": "display_data"
    }
   ],
   "source": [
    "plt.figure(figsize=(16,9))\n",
    "\n",
    "ax3 = plt.subplot(311)\n",
    "ax3.hist(schools_merged['enroll_12_x'], bins=100)\n",
    "ax3.vlines(x = np.average(schools_merged['enroll_12_x']), ymin=0, ymax=150, color='r');\n",
    "\n",
    "plt.title(\"12th Grade Size of all CA Schools\", fontsize=20)\n",
    "plt.xlabel(\"Number of Students in 12th Grade\", fontsize = 15);\n",
    "plt.ylabel(\"Frequency\", fontsize = 15);"
   ]
  },
  {
   "cell_type": "code",
   "execution_count": 51,
   "metadata": {},
   "outputs": [
    {
     "data": {
      "image/png": "[encoded data removed]",
      "text/plain": [
       "<Figure size 1152x648 with 1 Axes>"
      ]
     },
     "metadata": {
      "needs_background": "light"
     },
     "output_type": "display_data"
    }
   ],
   "source": [
    "plt.figure(figsize=(16,9))\n",
    "\n",
    "ax4 = plt.subplot(311, sharex=ax3)\n",
    "ax4.hist(schools_merged['sat_benchmark_12'], bins=100)\n",
    "ax4.vlines(x = np.average(schools_merged['sat_benchmark_12']), ymin=0, ymax=400, color='r');\n",
    "\n",
    "plt.title(\"Successful SAT 12th Grade Students among all CA Schools\", fontsize=20)\n",
    "plt.xlabel(\"Number who exceeded benchmark\", fontsize = 15);\n",
    "plt.ylabel(\"Frequency\", fontsize = 15);"
   ]
  },
  {
   "cell_type": "code",
   "execution_count": 52,
   "metadata": {},
   "outputs": [],
   "source": [
    "#Interpretation of above 2 histograms:\n",
    "#Smaller schools, even with less students, almost always had fewer students pass SAT benchmark for the 12th grade."
   ]
  },
  {
   "cell_type": "markdown",
   "metadata": {},
   "source": [
    "## Conclusions and Recommendations"
   ]
  },
  {
   "cell_type": "markdown",
   "metadata": {},
   "source": [
    "*Recap*: The initial goal of the data analysis was to obtain insight into the specific demographics of low performing students, from a location perspective and then a racial and income persepctive.  Our insight was obtained in the following manners:\n",
    "\n",
    "*Dataset Research*:  Based on our dataset research, slightly compelling trends were seen from comparing the grade size to the number, and percentage, of students who passed the standardized benchmark for the ACT and SAT.  Additionally, when grouping by the top 10 lowest performing counties for each grade and test, it was observed that many of these counties were in less urbanized areas.  \n",
    "\n",
    "*Outside Research*:  After gaining insight into which counties had lower performing students, we could gain insight into the specific counties demographics.  Rural areas tended to be predominantly the races of White, Hispanic, and Native American.  This finding was fairly aligned with the racial demographics that stated that Native Americans were the lowest performing racial group.  From an income perspective, the rural areas also had the lowest level of parental income, which aligns with the findings that parental income is positively correlated with student performance.\n",
    "\n",
    "\n",
    "*Key Takeaways, Recommendations, and Limitations*:  A main takeaway from these findings is that school size has a slightly, but not strong, correlation to student performance on exams.  After diving deeper into more specific demographics from outside research, it is apparent that many other factors must be taken into consideration.  For example, urban counties such as Los Angeles, have a high student population but may have a very fluctuating range of low and high performing students within the county.  One inherent limitation of this project is that although it was found that rural counties perform more poorly as compared to urban counties on average, greater research into urban counties is needed to compartmentalize high and low performing students.  Overall, as a data scientist presenting to the college board, my recommendation is to allocate more funding and education centers in these rural counties for which standardized test participation is lower.  For urban areas, my recommendation is to have allocate funding not per location, but rather per income demographic. \n"
   ]
  }
 ],
 "metadata": {
  "anaconda-cloud": {},
  "kernelspec": {
   "display_name": "Python 3",
   "language": "python",
   "name": "python3"
  },
  "language_info": {
   "codemirror_mode": {
    "name": "ipython",
    "version": 3
   },
   "file_extension": ".py",
   "mimetype": "text/x-python",
   "name": "python",
   "nbconvert_exporter": "python",
   "pygments_lexer": "ipython3",
   "version": "3.8.3"
  }
 },
 "nbformat": 4,
 "nbformat_minor": 4
}
